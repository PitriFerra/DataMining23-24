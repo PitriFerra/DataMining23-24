{
 "cells": [
  {
   "cell_type": "code",
   "execution_count": 10,
   "metadata": {},
   "outputs": [],
   "source": [
    "import numpy as np\n",
    "from sklearn.metrics.pairwise import cosine_similarity"
   ]
  },
  {
   "cell_type": "code",
   "execution_count": 13,
   "metadata": {},
   "outputs": [],
   "source": [
    "#function for create the utility matrix \n",
    "def new_utility_matrix(standard_routes, actual_routes):\n",
    "    #extract drivers from standard routes = columns of the matrix \n",
    "    drivers = set(standard_route['driver'] for standard_route in standard_routes)\n",
    "\n",
    "    #initialization the matrix with 0 = rows are the routes \n",
    "    utility_matrix = np.zeros((len(standard_routes), len(drivers)))\n",
    "\n",
    "    #dictionary for create driver - driver_index and after fill the right \n",
    "    driver_index = {driver: d_index for d_index, driver in enumerate(drivers)}\n",
    "\n",
    "    #fill the matrix based on the rating -> application of cosine similarity \n",
    "    for i, s_route in enumerate(standard_routes):\n",
    "        s_merchandise = merchandise(s_route['route'])\n",
    "\n",
    "        for a_route in actual_routes:\n",
    "            #if id is the same -> calculate the cosine between standard and actual \n",
    "            if s_route['sroute'] == a_route['id']:\n",
    "                a_merchandise = merchandise(a_route['route'])\n",
    "                #rating based on cosine similarity of vector merchandise standard and actual \n",
    "                rating = calcolate_cosine_similarity(s_merchandise, a_merchandise) \n",
    "                #fill the matrix with the rating given by the driver\n",
    "                driver_idx = driver_index[s_route['driver']]               \n",
    "                utility_matrix[i, driver_idx] = rating\n",
    "    return utility_matrix\n",
    "\n",
    "#all the merchandise of a route in a dictionary -> update merchanide always at the last 'city' of the trip\n",
    "def merchandise(route): \n",
    "    merchandise = {}\n",
    "    for segment in route:\n",
    "        merchandise.update(segment['merchandise'])\n",
    "    return merchandise\n",
    "\n",
    "#function for calculate the cosine similarity \n",
    "def calcolate_cosine_similarity(vec1, vec2):\n",
    "    return cosine_similarity([list(vec1.values())], [list(vec2.values())])[0][0]\n",
    "\n"
   ]
  },
  {
   "cell_type": "code",
   "execution_count": 14,
   "metadata": {},
   "outputs": [
    {
     "data": {
      "text/plain": [
       "array([[0.        , 0.65682883],\n",
       "       [0.72568499, 0.        ]])"
      ]
     },
     "execution_count": 14,
     "metadata": {},
     "output_type": "execute_result"
    }
   ],
   "source": [
    "standard_routes = [{\n",
    "        'id': 'a25',\n",
    "        'driver': 'C',\n",
    "        'sroute': 's5',\n",
    "        'route': [\n",
    "            {'from': 'Rome', 'to': 'Milan', 'merchandise': {'milk': 4, 'pens': 4, 'butter': 20}},\n",
    "            {'from': 'Milan', 'to': 'Bergamo', 'merchandise': {'milk': 5, 'honey': 19, 'butter': 10, 'tomatoes': 20}},\n",
    "            {'from': 'Bergamo', 'to': 'Venezia', 'merchandise': {'butter': 47, 'pens': 2, 'tomatoes': 1}}\n",
    "        ]\n",
    "    },\n",
    "    {\n",
    "        'id': 'a13',\n",
    "        'driver': 'E',\n",
    "        'sroute': 's10',\n",
    "        'route': [\n",
    "            {'from': 'Bolzano', 'to': 'Milan', 'merchandise': {'milk': 2, 'pens': 10, 'butter': 22}},\n",
    "            {'from': 'Milan', 'to': 'Verona', 'merchandise': {'milk': 15, 'tomatoes': 4}},\n",
    "            {'from': 'Verona', 'to': 'Venezia', 'merchandise': {'butter': 7, 'bread': 21, 'tomatoes': 10}}\n",
    "        ]\n",
    "    }] #file json\n",
    "actual_routes = [{\n",
    "        'id': 's5',\n",
    "        'route': [\n",
    "            {'from': 'Rome', 'to': 'Milan', 'merchandise': {'milk': 3, 'pens': 10, 'butter': 20}},\n",
    "            {'from': 'Milan', 'to': 'Verona', 'merchandise': {'milk': 5, 'honey': 9, 'butter': 10, 'tomatoes': 20}},\n",
    "            {'from': 'Verona', 'to': 'Venezia', 'merchandise': {'butter': 7, 'pens': 2, 'tomatoes': 10}}\n",
    "        ]\n",
    "    },\n",
    "    {\n",
    "        'id': 's10',\n",
    "        'route': [\n",
    "            {'from': 'Rome', 'to': 'Milan', 'merchandise': {'milk': 2, 'pens': 10, 'butter': 20}},\n",
    "            {'from': 'Milan', 'to': 'Verona', 'merchandise': {'milk': 5, 'tomatoes': 24}},\n",
    "            {'from': 'Verona', 'to': 'Venezia', 'merchandise': {'butter': 7, 'bread': 2, 'tomatoes': 10}}\n",
    "        ]\n",
    "    }] #file json\n",
    "\n",
    "utility_matrix = new_utility_matrix(standard_routes, actual_routes)\n",
    "\n",
    "utility_matrix"
   ]
  },
  {
   "cell_type": "code",
   "execution_count": null,
   "metadata": {},
   "outputs": [],
   "source": []
  }
 ],
 "metadata": {
  "kernelspec": {
   "display_name": "Python 3",
   "language": "python",
   "name": "python3"
  },
  "language_info": {
   "codemirror_mode": {
    "name": "ipython",
    "version": 3
   },
   "file_extension": ".py",
   "mimetype": "text/x-python",
   "name": "python",
   "nbconvert_exporter": "python",
   "pygments_lexer": "ipython3",
   "version": "3.11.4"
  }
 },
 "nbformat": 4,
 "nbformat_minor": 2
}
